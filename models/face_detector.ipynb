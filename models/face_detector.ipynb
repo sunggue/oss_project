{
 "cells": [
  {
   "cell_type": "code",
   "execution_count": 1,
   "id": "0b759abf-d5e1-4be1-ad3a-bcb08f6aa288",
   "metadata": {},
   "outputs": [],
   "source": [
    "import cv2\n",
    "import matplotlib.pyplot as plt\n",
    "import numpy as np\n",
    "from PIL import Image"
   ]
  },
  {
   "cell_type": "code",
   "execution_count": 2,
   "id": "aee2fd93-49b6-4588-99d5-d33e7d867a75",
   "metadata": {},
   "outputs": [],
   "source": [
    "class FaceDetector:\n",
    "    def __init__(self):\n",
    "        cascade_path = cv2.data.haarcascades + \"haarcascade_frontalface_default.xml\"\n",
    "        self.face_cascade = cv2.CascadeClassifier(cascade_path)\n",
    "    # 입력된 이미지중 얼굴부분을 추출합니다.\n",
    "    def detect_faces(self, image_path):\n",
    "        image = cv2.imread(image_path)\n",
    "        gray_image = cv2.cvtColor(image, cv2.COLOR_BGR2GRAY)\n",
    "        faces = self.face_cascade.detectMultiScale(\n",
    "            gray_image, scaleFactor=1.1, minNeighbors=5, minSize=(30, 30)\n",
    "        )\n",
    "        for i, (x, y, w, h) in enumerate(faces):\n",
    "            face = image[y:y+h, x:x+w]\n",
    "\n",
    "        face_rgb = cv2.cvtColor(face, cv2.COLOR_BGR2RGB)\n",
    "        resized_face = cv2.resize(face_rgb, (64, 64))\n",
    "        detected_face = Image.fromarray(resized_face)\n",
    "        return image, detected_face\n",
    "    # 입력된 사진과 추출된 얼굴 사진을 시각화합니다.\n",
    "    def visualize_face(self, image, face):\n",
    "        \n",
    "        plt.figure(figsize=(10, 5))\n",
    "        plt.subplot(1, 2, 1)  \n",
    "        plt.imshow(cv2.cvtColor(image, cv2.COLOR_BGR2RGB))\n",
    "        plt.title(\"Original Image\")\n",
    "        plt.axis(\"off\")\n",
    "\n",
    "        plt.subplot(1, 2, 2)  \n",
    "        plt.imshow(face)\n",
    "        plt.title(\"Face Image\")\n",
    "        plt.axis(\"off\")\n",
    "        \n",
    "        plt.show()\n",
    "    # 추출된 얼굴 사진을 전처리합니다.\n",
    "    def test_image_preprocess(self, face):\n",
    "        face_array = np.expand_dims(np.array(face) / 255.0, axis=0)\n",
    "        return face_array"
   ]
  },
  {
   "cell_type": "code",
   "execution_count": null,
   "id": "e5c9e2a8-e983-4e4d-9780-b5157a8d9e12",
   "metadata": {},
   "outputs": [],
   "source": []
  }
 ],
 "metadata": {
  "kernelspec": {
   "display_name": "Python 3 (ipykernel)",
   "language": "python",
   "name": "python3"
  },
  "language_info": {
   "codemirror_mode": {
    "name": "ipython",
    "version": 3
   },
   "file_extension": ".py",
   "mimetype": "text/x-python",
   "name": "python",
   "nbconvert_exporter": "python",
   "pygments_lexer": "ipython3",
   "version": "3.11.9"
  }
 },
 "nbformat": 4,
 "nbformat_minor": 5
}
