{
 "cells": [
  {
   "cell_type": "code",
   "execution_count": 1,
   "id": "a78974d7-a714-4699-9c7b-0eb3c7a4b738",
   "metadata": {},
   "outputs": [],
   "source": [
    "import os\n",
    "import numpy as np\n",
    "import pandas as pd\n",
    "from PIL import Image\n",
    "import matplotlib.pyplot as plt\n",
    "import seaborn as sns"
   ]
  },
  {
   "cell_type": "code",
   "execution_count": 2,
   "id": "56be7189-5168-4a4c-8c09-e9408263cb5a",
   "metadata": {},
   "outputs": [],
   "source": [
    "class UTKFaceDataset:\n",
    "    def __init__(self, dataset_dir, image_size=(64, 64)):\n",
    "        self.dataset_dir = dataset_dir\n",
    "        self.image_size = image_size\n",
    "        self.data = []\n",
    "    # 데이터셋을 로드합니다.\n",
    "    def load_data(self):\n",
    "        file_list = os.listdir(self.dataset_dir)\n",
    "        for filename in file_list:\n",
    "            parts = filename.split('_')\n",
    "            try:\n",
    "                age = int(parts[0])  # Extract age\n",
    "            except (ValueError, IndexError):\n",
    "                print(f\"Skipping invalid file: {filename}\")\n",
    "                continue\n",
    "            \n",
    "            image_path = os.path.join(self.dataset_dir, filename)\n",
    "            try:\n",
    "                with Image.open(image_path) as img:\n",
    "                    self.data.append({'image': img.copy(), 'age': age})\n",
    "            except Exception as e:\n",
    "                print(f\"Error loading image {filename}: {e}\")\n",
    "    # 이미지를 전처리합니다.(4차원 배열 + Min-Max scaling)\n",
    "    def preprocess_data(self):\n",
    "        self.df = pd.DataFrame(self.data)\n",
    "        images = np.array([np.array(img.resize(self.image_size)) for img in self.df['image']])\n",
    "        images = images / 255.0  # Normalize\n",
    "        labels = np.array(self.df['age'])\n",
    "        return images.astype('float32'), labels\n",
    "    # 나이에 따른 이미지 수를 시각화합니다. \n",
    "    def visualize_data(self):\n",
    "        plt.figure(figsize=(8, 6))\n",
    "        sns.histplot(self.df['age'], kde=True)\n",
    "        plt.xlabel(\"age\")\n",
    "        plt.ylabel(\"Number of images\")\n",
    "        plt.show()"
   ]
  },
  {
   "cell_type": "code",
   "execution_count": null,
   "id": "ffe90aa0-237d-400c-ab44-c43319edae03",
   "metadata": {},
   "outputs": [],
   "source": []
  }
 ],
 "metadata": {
  "kernelspec": {
   "display_name": "Python 3 (ipykernel)",
   "language": "python",
   "name": "python3"
  },
  "language_info": {
   "codemirror_mode": {
    "name": "ipython",
    "version": 3
   },
   "file_extension": ".py",
   "mimetype": "text/x-python",
   "name": "python",
   "nbconvert_exporter": "python",
   "pygments_lexer": "ipython3",
   "version": "3.11.9"
  }
 },
 "nbformat": 4,
 "nbformat_minor": 5
}
