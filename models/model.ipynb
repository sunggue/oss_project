{
 "cells": [
  {
   "cell_type": "code",
   "execution_count": 1,
   "id": "927e5be6-5497-4e86-9b83-98756d976d11",
   "metadata": {},
   "outputs": [],
   "source": [
    "import matplotlib.pyplot as plt\n",
    "from tensorflow.keras import layers, models\n",
    "from tensorflow.keras.optimizers import Adam"
   ]
  },
  {
   "cell_type": "code",
   "execution_count": 2,
   "id": "8454c86f-9dfc-4810-87ea-b6ee37deed11",
   "metadata": {},
   "outputs": [],
   "source": [
    "class AgePredictionModel:\n",
    "    def __init__(self, input_shape=(64, 64, 3)):\n",
    "        self.model = self._build_model(input_shape)\n",
    "    # 모델을 구축합니다.(CNN + MLP)\n",
    "    def _build_model(self, input_shape):\n",
    "        model = models.Sequential([\n",
    "            layers.Conv2D(32, (3, 3), activation='relu', input_shape=input_shape),\n",
    "            layers.MaxPooling2D((2, 2)),\n",
    "            layers.Conv2D(64, (3, 3), activation='relu'),\n",
    "            layers.MaxPooling2D((2, 2)),\n",
    "            layers.Conv2D(128, (3, 3), activation='relu'),\n",
    "            layers.MaxPooling2D((2, 2)),\n",
    "            layers.Conv2D(256, (3, 3), activation='relu'),\n",
    "            layers.MaxPooling2D((2, 2)),\n",
    "            layers.Flatten(),\n",
    "            layers.Dense(256, activation='relu'),\n",
    "            layers.Dropout(0.5),\n",
    "            layers.Dense(128, activation='relu'),\n",
    "            layers.Dropout(0.5),\n",
    "            layers.Dense(1, activation='relu')\n",
    "        ])\n",
    "        model.compile(optimizer=Adam(), loss='mean_squared_error', metrics=['mae'])\n",
    "        return model\n",
    "    # 모델을 확인합니다.\n",
    "    def check_model(self):\n",
    "        self.model.summary()\n",
    "    # 모델을 학습시킵니다.\n",
    "    def train(self, x_train, y_train, batch_size=128, epochs=30, validation_split=0.2):\n",
    "        self.history = self.model.fit(\n",
    "            x_train, y_train,\n",
    "            batch_size=batch_size,\n",
    "            epochs=epochs,\n",
    "            validation_split=validation_split\n",
    "        )\n",
    "        return self.history\n",
    "    # 주어진 이미지에 대한 나이를 출력합니다.    \n",
    "    def predict(self, image):\n",
    "        pred = self.model.predict(image)\n",
    "        pred = round(pred[0][0])\n",
    "        print(f\"Predicted Age: {pred}\")\n",
    "    # Epoch에 따른 Mean Absolute Error를 출력합니다.\n",
    "    def plot_training_history(self):\n",
    "        plt.plot(self.history.history['mae'], label='Train MAE')\n",
    "        plt.plot(self.history.history['val_mae'], label='Validation MAE')\n",
    "        plt.xlabel('Epochs')\n",
    "        plt.ylabel('Mean Absolute Error')\n",
    "        plt.legend()\n",
    "        plt.show()"
   ]
  },
  {
   "cell_type": "code",
   "execution_count": null,
   "id": "f1d80540-6eff-443f-b02e-25013cfba728",
   "metadata": {},
   "outputs": [],
   "source": []
  }
 ],
 "metadata": {
  "kernelspec": {
   "display_name": "Python 3 (ipykernel)",
   "language": "python",
   "name": "python3"
  },
  "language_info": {
   "codemirror_mode": {
    "name": "ipython",
    "version": 3
   },
   "file_extension": ".py",
   "mimetype": "text/x-python",
   "name": "python",
   "nbconvert_exporter": "python",
   "pygments_lexer": "ipython3",
   "version": "3.11.9"
  }
 },
 "nbformat": 4,
 "nbformat_minor": 5
}
